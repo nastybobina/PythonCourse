{
 "cells": [
  {
   "cell_type": "markdown",
   "metadata": {},
   "source": [
    "Выполнить задания:\n",
    "1.\tНормализовать базу данных относительно актеров. Выделить таблицу с актерами, а также таблицу многие-ко-многим `актер-фильм`. (Т.е. будут 3 таблицы: актеры, фильмы, актер-фильм). Сохранить новую бд как ‘task1.sqlite’.\n",
    "2.\tИсходя из этой таблицы, средствами SQL, вычислить наболее часто работающую друг с другом пару актеров."
   ]
  },
  {
   "cell_type": "markdown",
   "metadata": {},
   "source": [
    "Задание 1"
   ]
  },
  {
   "cell_type": "code",
   "execution_count": 1,
   "metadata": {},
   "outputs": [],
   "source": [
    "import sqlite3\n",
    "\n",
    "netflix_connection = sqlite3.connect('netflix.sqlite')\n",
    "netflix_cursor = netflix_connection.cursor()\n",
    "\n",
    "task1_connection = sqlite3.connect('task1.sqlite')\n",
    "task1_cursor = task1_connection.cursor()"
   ]
  },
  {
   "cell_type": "code",
   "execution_count": 2,
   "metadata": {},
   "outputs": [
    {
     "data": {
      "text/plain": [
       "<sqlite3.Cursor at 0x20472447b40>"
      ]
     },
     "execution_count": 2,
     "metadata": {},
     "output_type": "execute_result"
    }
   ],
   "source": [
    "# Таблица фильмов\n",
    "task1_cursor.execute('''\n",
    "    CREATE TABLE movies (\n",
    "        show_id INTEGER PRIMARY KEY,\n",
    "        type TEXT,\n",
    "        title TEXT,\n",
    "        director TEXT,\n",
    "        cast TEXT,\n",
    "        country TEXT,\n",
    "        date_added TEXT,\n",
    "        release_year INTEGER,\n",
    "        rating TEXT,\n",
    "        duration TEXT,\n",
    "        listed_in TEXT,\n",
    "        description TEXT\n",
    "    )\n",
    "''')"
   ]
  },
  {
   "cell_type": "code",
   "execution_count": 3,
   "metadata": {},
   "outputs": [
    {
     "data": {
      "text/plain": [
       "<sqlite3.Cursor at 0x20472447b40>"
      ]
     },
     "execution_count": 3,
     "metadata": {},
     "output_type": "execute_result"
    }
   ],
   "source": [
    "# Таблица актеров\n",
    "task1_cursor.execute('''\n",
    "    CREATE TABLE actors (\n",
    "        actor_id INTEGER PRIMARY KEY,\n",
    "        actor_name TEXT\n",
    "    )\n",
    "''')"
   ]
  },
  {
   "cell_type": "code",
   "execution_count": 4,
   "metadata": {},
   "outputs": [
    {
     "data": {
      "text/plain": [
       "<sqlite3.Cursor at 0x20472447b40>"
      ]
     },
     "execution_count": 4,
     "metadata": {},
     "output_type": "execute_result"
    }
   ],
   "source": [
    "# Таблица актер-фильм\n",
    "task1_cursor.execute('''\n",
    "    CREATE TABLE actor_movie (\n",
    "        actor_id INTEGER,\n",
    "        movie_id INTEGER,\n",
    "        FOREIGN KEY (actor_id) REFERENCES actors (actor_id),\n",
    "        FOREIGN KEY (movie_id) REFERENCES movies (movie_id),\n",
    "        PRIMARY KEY (actor_id, movie_id)\n",
    "    )\n",
    "''')"
   ]
  },
  {
   "cell_type": "code",
   "execution_count": 5,
   "metadata": {},
   "outputs": [],
   "source": [
    "actors_list = []  # Лист актёров, с помощью которого будем исключать их повторения в таблице актёров"
   ]
  },
  {
   "cell_type": "code",
   "execution_count": 6,
   "metadata": {},
   "outputs": [],
   "source": [
    "# (Довольно громоздкий код, время работы +-полминуты)\n",
    "actors_list = []  # Лист актёров, с помощью которого будем исключать их повторения в таблице актёров\n",
    "netflix_cursor.execute('SELECT * FROM netflix_titles')\n",
    "for netflix_title_data in netflix_cursor.fetchall():\n",
    "    # Таблица кинокартин:\n",
    "    movie_info = netflix_title_data[0:]\n",
    "    task1_cursor.execute('INSERT INTO movies VALUES (?,?,?,?,?,?,?,?,?,?,?,?)', movie_info)\n",
    "    # Таблица актёров\n",
    "    cast_of_title = netflix_title_data[4]  # Сast в netflix_titles\n",
    "    if cast_of_title:\n",
    "        actors = [actor.strip() for actor in cast_of_title.split(',')]\n",
    "        for actor in actors:\n",
    "            if actors_list.count(actor) < 1:  # Параметр, исключающий повторение актёров в списке актёров\n",
    "                actors_list.append(actor)\n",
    "                task1_cursor.execute('INSERT INTO actors (actor_name) VALUES (?)', (actor,))\n",
    "    # Актер-фильм\n",
    "    actors_list_two = []\n",
    "    show_id = netflix_title_data[0]\n",
    "    for actor in actors:\n",
    "        actor_info = task1_cursor.execute('SELECT actor_id FROM actors WHERE actor_name=?', (actor,))\n",
    "        for _ in actor_info.fetchone():\n",
    "            actor_id = _\n",
    "            if actors_list_two.count(actor_id) < 1:\n",
    "                actors_list_two.append(actor_id)\n",
    "                task1_cursor.execute('INSERT INTO actor_movie VALUES (?, ?)', (actor_id, show_id))"
   ]
  },
  {
   "cell_type": "code",
   "execution_count": 7,
   "metadata": {},
   "outputs": [],
   "source": [
    "task1_connection.commit()\n",
    "netflix_connection.close()\n",
    "task1_connection.close()"
   ]
  },
  {
   "cell_type": "markdown",
   "metadata": {},
   "source": [
    "Задание 2"
   ]
  },
  {
   "cell_type": "code",
   "execution_count": 8,
   "metadata": {},
   "outputs": [],
   "source": [
    "connection = sqlite3.connect('task1.sqlite')\n",
    "cursor = connection.cursor()"
   ]
  },
  {
   "cell_type": "code",
   "execution_count": 9,
   "metadata": {},
   "outputs": [],
   "source": [
    "# Ищем часто работающую друг с другом пару актеров\n",
    "query = '''\n",
    "    SELECT a1.actor_name, a2.actor_name, COUNT(*) as movies_together\n",
    "    FROM actor_movie am1\n",
    "    JOIN actor_movie am2 ON am1.movie_id = am2.movie_id AND am1.actor_id < am2.actor_id\n",
    "    JOIN actors a1 ON am1.actor_id = a1.actor_id\n",
    "    JOIN actors a2 ON am2.actor_id = a2.actor_id\n",
    "    GROUP BY a1.actor_name, a2.actor_name\n",
    "    ORDER BY movies_together DESC\n",
    "    LIMIT 1\n",
    "'''"
   ]
  },
  {
   "cell_type": "code",
   "execution_count": 10,
   "metadata": {},
   "outputs": [],
   "source": [
    "cursor.execute(query)\n",
    "result = cursor.fetchone()"
   ]
  },
  {
   "cell_type": "code",
   "execution_count": 11,
   "metadata": {},
   "outputs": [
    {
     "name": "stdout",
     "output_type": "stream",
     "text": [
      "Наиболее часто работают друг с другом: Eric Idle с John Cleese. Парой участовали аж в 17 фильмах.\n"
     ]
    }
   ],
   "source": [
    "if result:\n",
    "    first_actor, second_actor, movies = result\n",
    "    print(f\"Наиболее часто работают друг с другом: {first_actor} с {second_actor}. Парой участовали аж в {movies} фильмах.\")"
   ]
  },
  {
   "cell_type": "code",
   "execution_count": 12,
   "metadata": {},
   "outputs": [],
   "source": [
    "connection.close()"
   ]
  }
 ],
 "metadata": {
  "kernelspec": {
   "display_name": "Python 3",
   "language": "python",
   "name": "python3"
  },
  "language_info": {
   "codemirror_mode": {
    "name": "ipython",
    "version": 3
   },
   "file_extension": ".py",
   "mimetype": "text/x-python",
   "name": "python",
   "nbconvert_exporter": "python",
   "pygments_lexer": "ipython3",
   "version": "3.11.5"
  }
 },
 "nbformat": 4,
 "nbformat_minor": 2
}
